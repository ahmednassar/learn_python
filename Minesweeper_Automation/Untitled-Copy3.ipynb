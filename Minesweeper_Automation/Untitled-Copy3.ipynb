{
 "cells": [
  {
   "cell_type": "code",
   "execution_count": 9,
   "metadata": {
    "collapsed": true
   },
   "outputs": [],
   "source": [
    "# easy_install pyscreenshot"
   ]
  },
  {
   "cell_type": "code",
   "execution_count": 42,
   "metadata": {},
   "outputs": [
    {
     "ename": "ModuleNotFoundError",
     "evalue": "No module named 'pynput'",
     "output_type": "error",
     "traceback": [
      "\u001b[0;31m---------------------------------------------------------------------------\u001b[0m",
      "\u001b[0;31mModuleNotFoundError\u001b[0m                       Traceback (most recent call last)",
      "\u001b[0;32m<ipython-input-42-cb4e6c33725a>\u001b[0m in \u001b[0;36m<module>\u001b[0;34m()\u001b[0m\n\u001b[1;32m      6\u001b[0m \u001b[0;32mfrom\u001b[0m \u001b[0mPIL\u001b[0m \u001b[0;32mimport\u001b[0m \u001b[0mImage\u001b[0m\u001b[0;34m\u001b[0m\u001b[0m\n\u001b[1;32m      7\u001b[0m \u001b[0;32mimport\u001b[0m \u001b[0mtime\u001b[0m\u001b[0;34m\u001b[0m\u001b[0m\n\u001b[0;32m----> 8\u001b[0;31m \u001b[0;32mfrom\u001b[0m \u001b[0mpynput\u001b[0m \u001b[0;32mimport\u001b[0m \u001b[0mmouse\u001b[0m\u001b[0;34m\u001b[0m\u001b[0m\n\u001b[0m\u001b[1;32m      9\u001b[0m \u001b[0;34m\u001b[0m\u001b[0m\n\u001b[1;32m     10\u001b[0m \u001b[0mp\u001b[0m \u001b[0;34m=\u001b[0m \u001b[0;34m(\u001b[0m\u001b[0;36m295\u001b[0m\u001b[0;34m,\u001b[0m \u001b[0;36m179\u001b[0m\u001b[0;34m)\u001b[0m\u001b[0;34m\u001b[0m\u001b[0m\n",
      "\u001b[0;31mModuleNotFoundError\u001b[0m: No module named 'pynput'"
     ]
    }
   ],
   "source": [
    "import pyscreenshot\n",
    "import pyautogui, sys\n",
    "import operator\n",
    "import math\n",
    "import numpy as np\n",
    "from PIL import Image\n",
    "import time\n",
    "from pynput import mouse\n",
    "\n",
    "p = (295, 179)\n",
    "cell_width = 16\n",
    "cell_hight = 16.0\n",
    "cell_dimentions = (30,16)\n",
    "cell_margine = 3 #I use this margine get into the core cell\n",
    "cell_upper_margine = 1\n",
    "cell_margine_2 = 6 #I use this margine get into the core cell\n",
    "cell_upper_margine_2 = 2"
   ]
  },
  {
   "cell_type": "code",
   "execution_count": 8,
   "metadata": {},
   "outputs": [],
   "source": [
    "def cSub(p1, p2):\n",
    "    r,g,b,a = p1\n",
    "    x,y,z,s = p2\n",
    "    d1 = (abs(r-x) )\n",
    "    d2 = (abs(g-y))\n",
    "    d3 = (abs(b-z))\n",
    "    #d4 = ((a-s) ** 2)\n",
    "    if(d1 < 10):\n",
    "        d1 = 0\n",
    "    if(d2 < 10):\n",
    "        d2 = 0\n",
    "    if(d3 < 10):\n",
    "        d3 = 0\n",
    "    #if(d4 < 100):\n",
    "     #   d4 = 0\n",
    "    return (d1+d2+d3)\n",
    "\n",
    "def calculateDiff(a,b):\n",
    "    return sum(list(map(cSub, a, b)))\n",
    "def findBestMatch(a):\n",
    "    diff = []\n",
    "    #diff.append(calculateDiff(a, i4))\n",
    "    for cell in cell_list:\n",
    "        cost = calculateDiff(a, cell)\n",
    "        diff.append(cost)\n",
    "        if(cost < 15): break\n",
    "    #print((diff))\n",
    "    return(diff.index(min(diff)))\n",
    "def getCellImg(x,y):\n",
    "    'this method is very slow takes about .2 second per cell, which does not make sense to work with it'\n",
    "    return pyscreenshot.grab(bbox=(p[0] + cell_upper_margine + (x*cell_width),\n",
    "                                   p[1] + cell_upper_margine + (y*cell_width),\n",
    "                                   p[0] - cell_margine + ((x+1)*cell_width),\n",
    "                                   p[1] - cell_margine + ((y+1)*cell_hight) ))\n",
    "\n",
    "def getCellImgFromImage(img,x,y):\n",
    "    'this method is much better performance .02 seconds for each cell'\n",
    "    return img.crop((cell_upper_margine_2 + (x*cell_width*2),\n",
    "                                   cell_upper_margine_2 + (y*cell_width*2),\n",
    "                                   ((x+1)*cell_width*2) - cell_margine_2,\n",
    "                                   ((y+1)*cell_hight*2) - cell_margine_2 ))\n",
    "\n",
    "def getFullImg():\n",
    "    return pyscreenshot.grab(bbox=(p[0] ,\n",
    "                                   p[1] ,\n",
    "                                   p[0] + (cell_width * cell_dimentions[0]),\n",
    "                                   p[1] + (cell_hight * cell_dimentions[1]) ))"
   ]
  },
  {
   "cell_type": "code",
   "execution_count": 4,
   "metadata": {},
   "outputs": [],
   "source": [
    "def initiateCells():\n",
    "    getCellImg(0,0).save('cell_one.png')\n",
    "    getCellImg(0,1).save('cell_two.png')\n",
    "    getCellImg(1,1).save('cell_three.png')\n",
    "    getCellImg(9,1).save('cell_four.png')\n",
    "    getCellImg(24,7).save('cell_five.png')\n",
    "    getCellImg(3,4).save('cell_empty.png')\n",
    "    getCellImg(16,1).save('cell_covered.png')\n",
    "    getCellImg(1,0).save('cell_marked.png')\n",
    "    getCellImg(16,0).save('cell_blow.png')\n",
    "    getCellImg(9,0).save('cell_bad.png')\n",
    "    getCellImg(10,0).save('cell_bad_1.png')\n",
    "    return None\n",
    "def initiateCellsWithImage():\n",
    "    im = Image.open('training.png')\n",
    "    getCellImgFromImage(im,0,0).save('cell_one.png')\n",
    "    getCellImgFromImage(im,0,1).save('cell_two.png')\n",
    "    getCellImgFromImage(im,1,1).save('cell_three.png')\n",
    "    getCellImgFromImage(im,9,1).save('cell_four.png')\n",
    "    getCellImgFromImage(im,24,7).save('cell_five.png')\n",
    "    getCellImgFromImage(im,3,4).save('cell_empty.png')\n",
    "    getCellImgFromImage(im,16,1).save('cell_covered.png')\n",
    "    getCellImgFromImage(im,1,0).save('cell_marked.png')\n",
    "    getCellImgFromImage(im,16,0).save('cell_blow.png')\n",
    "    getCellImgFromImage(im,9,0).save('cell_bad.png')\n",
    "    getCellImgFromImage(im,10,0).save('cell_bad_1.png')\n",
    "    return None\n",
    "#initiateCellsWithImage()\n",
    "#initiateCells() #it is danger to use this function"
   ]
  },
  {
   "cell_type": "code",
   "execution_count": 21,
   "metadata": {},
   "outputs": [],
   "source": [
    "i1 = list(Image.open(\"cell_one.png\").getdata())\n",
    "i2 = list(Image.open(\"cell_two.png\").getdata())\n",
    "i3 = list(Image.open(\"cell_three.png\").getdata())\n",
    "i4 = list(Image.open(\"cell_four.png\").getdata())\n",
    "i5 = list(Image.open(\"cell_five.png\").getdata())\n",
    "e_cell = list(Image.open(\"cell_empty.png\").getdata())\n",
    "c_cell = list(Image.open(\"cell_covered.png\").getdata())\n",
    "m_cell = list(Image.open(\"cell_marked.png\").getdata())\n",
    "blow_cell = list(Image.open(\"cell_blow.png\").getdata())\n",
    "bad_cell = list(Image.open(\"cell_bad.png\").getdata())\n",
    "bad_1_cell = list(Image.open(\"cell_bad_1.png\").getdata())\n",
    "cell_list = [i1,i2,i3,i4,i5,e_cell,c_cell,\n",
    "             m_cell, blow_cell, bad_cell, bad_1_cell]\n",
    "cell_names = {0:'one', 1:'two', 2:'three', 3:'four', 4:'five', 5:'empty'\n",
    "              , 6:'covered', 7:'marked', 8:'blow', 9:'bad', 10:'bad_1'}"
   ]
  },
  {
   "cell_type": "code",
   "execution_count": 26,
   "metadata": {
    "collapsed": true
   },
   "outputs": [],
   "source": [
    "def manipulate_cell_matrix(fileName):\n",
    "    cell_matrix = []\n",
    "    im = Image.open(fileName)\n",
    "    im.show()\n",
    "    for i in range(cell_dimentions[0]):\n",
    "        cell_matrix.append([])\n",
    "        for j in range(cell_dimentions[1]):#cell_dimentions[1]):\n",
    "            ic = list(getCellImgFromImage(im,i,j).getdata())\n",
    "            #cell_matrix[i].append(cell_names.get(findBestMatch(ic)))\n",
    "            cell_matrix[i].append((findBestMatch(ic)))\n",
    "    return np.transpose(cell_matrix)"
   ]
  },
  {
   "cell_type": "code",
   "execution_count": 30,
   "metadata": {},
   "outputs": [
    {
     "name": "stdout",
     "output_type": "stream",
     "text": [
      "[ 5  5  5  5  5  5  5  5  5  5  5  5  5  5  5 10 10 10 10 10 10 10 10 10 10\n",
      " 10 10 10 10 10]\n",
      "[ 5  5  5  5  5  5  5  5  5  5  5  5  5  5  5 10 10 10 10 10 10 10 10 10 10\n",
      " 10 10 10 10 10]\n",
      "[ 5  5  5  5  5  5  5  5  5  5  5  5  5  5  5 10 10 10 10 10 10 10 10 10 10\n",
      " 10 10 10 10 10]\n",
      "[ 5  5  5  5  5  5  5  5  5  5  5  5  5  5  5 10 10 10 10 10 10 10 10 10 10\n",
      " 10 10 10 10 10]\n",
      "[ 5  5  5  5  5  5  5  5  5  5  5  5  5  5  5 10 10 10 10 10 10 10 10 10 10\n",
      " 10 10 10 10 10]\n",
      "[ 5  5  5  5  5  5  5  5  5  5  5  5  5  5  5 10 10 10 10 10 10 10 10 10 10\n",
      " 10 10 10 10 10]\n",
      "[ 5  5  5  5  5  5  5  5  5  5  5  5  5  5  5 10 10 10 10 10 10 10 10 10 10\n",
      " 10 10 10 10 10]\n",
      "[ 5  5  5  5  5  5  5  5  5  5  5  5  5  5  5 10 10 10 10 10 10 10 10 10 10\n",
      " 10 10 10 10 10]\n",
      "[10 10 10 10 10 10 10 10 10 10 10 10 10 10 10 10 10 10 10 10 10 10 10 10 10\n",
      " 10 10 10 10 10]\n",
      "[10 10 10 10 10 10 10 10 10 10 10 10 10 10 10 10 10 10 10 10 10 10 10 10 10\n",
      " 10 10 10 10 10]\n",
      "[10 10 10 10 10 10 10 10 10 10 10 10 10 10 10 10 10 10 10 10 10 10 10 10 10\n",
      " 10 10 10 10 10]\n",
      "[10 10 10 10 10 10 10 10 10 10 10 10 10 10 10 10 10 10 10 10 10 10 10 10 10\n",
      " 10 10 10 10 10]\n",
      "[10 10 10 10 10 10 10 10 10 10 10 10 10 10 10 10 10 10 10 10 10 10 10 10 10\n",
      " 10 10 10 10 10]\n",
      "[10 10 10 10 10 10 10 10 10 10 10 10 10 10 10 10 10 10 10 10 10 10 10 10 10\n",
      " 10 10 10 10 10]\n",
      "[10 10 10 10 10 10 10 10 10 10 10 10 10 10 10 10 10 10 10 10 10 10 10 10 10\n",
      " 10 10 10 10 10]\n",
      "[10 10 10 10 10 10 10 10 10 10 10 10 10 10 10 10 10 10 10 10 10 10 10 10 10\n",
      " 10 10 10 10 10]\n"
     ]
    }
   ],
   "source": [
    "def play():\n",
    "    t = time.strftime(\"%Y-%m-%d-%H-%M-%S\", time.gmtime()) + '.png'\n",
    "    getFullImg().save(t)\n",
    "    matrix = manipulate_cell_matrix(t)\n",
    "    for i in range(cell_dimentions[1]):\n",
    "        print(matrix[i])\n",
    "play()"
   ]
  },
  {
   "cell_type": "code",
   "execution_count": 40,
   "metadata": {},
   "outputs": [
    {
     "name": "stdout",
     "output_type": "stream",
     "text": [
      "['FAILSAFE', 'FailSafeException', 'KEYBOARD_KEYS', 'KEY_NAMES', 'MINIMUM_DURATION', 'MINIMUM_SLEEP', 'PAUSE', '__builtins__', '__cached__', '__doc__', '__file__', '__loader__', '__name__', '__package__', '__path__', '__spec__', '__version__', '_autoPause', '_failSafeCheck', '_mouseMoveDrag', '_pyautogui_osx', '_unpackXY', 'absolute_import', 'alert', 'center', 'click', 'collections', 'confirm', 'displayMousePosition', 'division', 'doubleClick', 'dragRel', 'dragTo', 'easeInBack', 'easeInBounce', 'easeInCirc', 'easeInCubic', 'easeInElastic', 'easeInExpo', 'easeInOutBack', 'easeInOutBounce', 'easeInOutCirc', 'easeInOutCubic', 'easeInOutElastic', 'easeInOutExpo', 'easeInOutQuad', 'easeInOutQuart', 'easeInOutQuint', 'easeInOutSine', 'easeInQuad', 'easeInQuart', 'easeInQuint', 'easeInSine', 'easeOutBack', 'easeOutBounce', 'easeOutCirc', 'easeOutCubic', 'easeOutElastic', 'easeOutExpo', 'easeOutQuad', 'easeOutQuart', 'easeOutQuint', 'easeOutSine', 'getPointOnLine', 'grab', 'hotkey', 'hscroll', 'isShiftCharacter', 'isValidKey', 'keyDown', 'keyUp', 'linear', 'locate', 'locateAll', 'locateAllOnScreen', 'locateCenterOnScreen', 'locateOnScreen', 'middleClick', 'mouseDown', 'mouseUp', 'moveRel', 'moveTo', 'onScreen', 'password', 'pixel', 'pixelMatchesColor', 'platformModule', 'position', 'press', 'print_function', 'prompt', 'pymsgbox', 'pyscreeze', 'pytweening', 'rightClick', 'screenshot', 'scroll', 'size', 'sys', 'time', 'tripleClick', 'typewrite', 'vscroll']\n"
     ]
    }
   ],
   "source": [
    "#pyautogui.moveTo(100, 200, duration=3)\n",
    "print(dir(pyautogui))\n",
    "#print('starting')\n",
    "#print(cell_dimentions)\n",
    "#for i in range(cell_dimentions[0]):\n",
    "#    cell_matrix.append([])\n",
    "#    print(i)\n",
    "#    for j in range(cell_dimentions[1]):\n",
    "#        ic = list(getCellImg(j,i).getdata())\n",
    "#        cell_matrix[i].append(cell_names.get(findBestMatch(ic)))'''\n",
    "#print(dir(pyscreenshot.loader))\n",
    "#print(pyscreenshot.about)\n",
    "#im = Image.open('training.png')\n",
    "#cell_matrix = []\n",
    "#for i in range(cell_dimentions[0]):\n",
    "#    cell_matrix.append([])\n",
    "#    for j in range(cell_dimentions[1]):#cell_dimentions[1]):\n",
    "#        ic = list(getCellImgFromImage(im,i,j).getdata())\n",
    "#        #cell_matrix[i].append(cell_names.get(findBestMatch(ic)))\n",
    "#        cell_matrix[i].append((findBestMatch(ic)))\n",
    "#\n",
    "#cell_matrix = np.transpose(cell_matrix)\n",
    "#for i in range(cell_dimentions[1]):\n",
    "#    print(cell_matrix[i])\n",
    "#    print('------------')\n",
    "#fcell = getCellImgFromImage(im, 28, 14)\n",
    "#print(cell_names.get(findBestMatch(fcell.getdata())))\n",
    "#imc = im.crop((0,0,32,32))\n",
    "#imc.show()\n",
    "#im.show()\n",
    "#im.show()\n",
    "#print(dir(im))\n",
    "#im2 = Image.frombytes('RGBA',(960,512),im.tobytes())\n",
    "#im2.show()\n",
    "#np_frame = np.array(im_frame.getdata())\n",
    "#print(cell_matrix)\n",
    "#fi = getFullImg()\n",
    "#fi.show()\n",
    "#print(dir(fi))\n",
    "#b = fi.getpixel\n",
    "#print((b))\n",
    "#b = fi.getpixel((0,0))\n",
    "#print(b)\n",
    "#b = fi.getpixel((511,959))\n",
    "#print(b[0])\n",
    "#getCellImg(29,15).show()\n",
    "#ic = list(getCellImg(29,0).getdata())\n",
    "#print(cell_names.get(findBestMatch(ic)))\n",
    "#getCellImg(29,15).show()\n",
    "\n",
    "# part of the screen\n",
    "#sh=pyscreenshot.grab(bbox=(10,10,11,12))\n",
    "#screenshot.show()\n",
    "#print((sh.getpixel((0,0))))\n",
    "#print(sh.size)\n",
    "\n",
    "# save to file\n",
    "#fi.save('training.png')"
   ]
  },
  {
   "cell_type": "code",
   "execution_count": null,
   "metadata": {
    "collapsed": true
   },
   "outputs": [],
   "source": []
  }
 ],
 "metadata": {
  "kernelspec": {
   "display_name": "Python 3",
   "language": "python",
   "name": "python3"
  },
  "language_info": {
   "codemirror_mode": {
    "name": "ipython",
    "version": 3
   },
   "file_extension": ".py",
   "mimetype": "text/x-python",
   "name": "python",
   "nbconvert_exporter": "python",
   "pygments_lexer": "ipython3",
   "version": "3.6.3"
  }
 },
 "nbformat": 4,
 "nbformat_minor": 2
}
