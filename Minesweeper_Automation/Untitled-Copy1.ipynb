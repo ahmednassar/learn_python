{
 "cells": [
  {
   "cell_type": "code",
   "execution_count": 9,
   "metadata": {
    "collapsed": true
   },
   "outputs": [],
   "source": [
    "# easy_install pyscreenshot"
   ]
  },
  {
   "cell_type": "code",
   "execution_count": 15,
   "metadata": {},
   "outputs": [
    {
     "ename": "NameError",
     "evalue": "name 'sh' is not defined",
     "output_type": "error",
     "traceback": [
      "\u001b[0;31m---------------------------------------------------------------------------\u001b[0m",
      "\u001b[0;31mNameError\u001b[0m                                 Traceback (most recent call last)",
      "\u001b[0;32m<ipython-input-15-5a4650e3d96c>\u001b[0m in \u001b[0;36m<module>\u001b[0;34m()\u001b[0m\n\u001b[1;32m     24\u001b[0m \u001b[0;31m#sh=pyscreenshot.grab(bbox=(10,10,11,12))\u001b[0m\u001b[0;34m\u001b[0m\u001b[0;34m\u001b[0m\u001b[0m\n\u001b[1;32m     25\u001b[0m \u001b[0;31m#screenshot.show()\u001b[0m\u001b[0;34m\u001b[0m\u001b[0;34m\u001b[0m\u001b[0m\n\u001b[0;32m---> 26\u001b[0;31m \u001b[0mprint\u001b[0m\u001b[0;34m(\u001b[0m\u001b[0;34m(\u001b[0m\u001b[0msh\u001b[0m\u001b[0;34m.\u001b[0m\u001b[0mgetpixel\u001b[0m\u001b[0;34m(\u001b[0m\u001b[0;34m(\u001b[0m\u001b[0;36m0\u001b[0m\u001b[0;34m,\u001b[0m\u001b[0;36m0\u001b[0m\u001b[0;34m)\u001b[0m\u001b[0;34m)\u001b[0m\u001b[0;34m)\u001b[0m\u001b[0;34m)\u001b[0m\u001b[0;34m\u001b[0m\u001b[0m\n\u001b[0m\u001b[1;32m     27\u001b[0m \u001b[0mprint\u001b[0m\u001b[0;34m(\u001b[0m\u001b[0msh\u001b[0m\u001b[0;34m.\u001b[0m\u001b[0msize\u001b[0m\u001b[0;34m)\u001b[0m\u001b[0;34m\u001b[0m\u001b[0m\n\u001b[1;32m     28\u001b[0m \u001b[0;34m\u001b[0m\u001b[0m\n",
      "\u001b[0;31mNameError\u001b[0m: name 'sh' is not defined"
     ]
    }
   ],
   "source": [
    "import pyscreenshot\n",
    "\n",
    "p = (295, 179)\n",
    "cell_width = 16\n",
    "cell_hight = 16.6\n",
    "cell_dimentions = (30,16)\n",
    "def getCellImg(x,y):\n",
    "    return pyscreenshot.grab(bbox=(p[0] + (x*cell_width),\n",
    "                                   p[1] + (y*cell_width),\n",
    "                                   p[0] + ((x+1)*cell_width),\n",
    "                                   p[1] + ((y+1)*cell_width) ))\n",
    "def getFullImg():\n",
    "    return pyscreenshot.grab(bbox=(p[0] ,\n",
    "                                   p[1] ,\n",
    "                                   p[0] + (cell_width * cell_dimentions[0]),\n",
    "                                   p[1] + (cell_hight * cell_dimentions[1]) ))\n",
    "#print(dir(pyscreenshot.grab()))\n",
    "\n",
    "# fullscreen\n",
    "#screenshot=pyscreenshot.grab()\n",
    "#screenshot.show()\n",
    "getFullImg().show()\n",
    "# part of the screen\n",
    "#sh=pyscreenshot.grab(bbox=(10,10,11,12))\n",
    "#screenshot.show()\n",
    "print((sh.getpixel((0,0))))\n",
    "print(sh.size)\n",
    "\n",
    "# save to file\n",
    "#pyscreenshot.grab_to_file('screenshot.png')"
   ]
  },
  {
   "cell_type": "code",
   "execution_count": null,
   "metadata": {
    "collapsed": true
   },
   "outputs": [],
   "source": []
  },
  {
   "cell_type": "code",
   "execution_count": null,
   "metadata": {
    "collapsed": true
   },
   "outputs": [],
   "source": []
  }
 ],
 "metadata": {
  "kernelspec": {
   "display_name": "Python 3",
   "language": "python",
   "name": "python3"
  },
  "language_info": {
   "codemirror_mode": {
    "name": "ipython",
    "version": 3
   },
   "file_extension": ".py",
   "mimetype": "text/x-python",
   "name": "python",
   "nbconvert_exporter": "python",
   "pygments_lexer": "ipython3",
   "version": "3.6.3"
  }
 },
 "nbformat": 4,
 "nbformat_minor": 2
}
