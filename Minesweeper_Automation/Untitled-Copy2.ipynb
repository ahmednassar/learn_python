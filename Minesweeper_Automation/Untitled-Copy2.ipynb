{
 "cells": [
  {
   "cell_type": "code",
   "execution_count": 9,
   "metadata": {
    "collapsed": true
   },
   "outputs": [],
   "source": [
    "# easy_install pyscreenshot"
   ]
  },
  {
   "cell_type": "code",
   "execution_count": 120,
   "metadata": {},
   "outputs": [
    {
     "name": "stdout",
     "output_type": "stream",
     "text": [
      "89715.34372582911\n",
      "89098.62773102771\n",
      "95245.65237032228\n",
      "26882.0\n"
     ]
    }
   ],
   "source": [
    "import pyscreenshot\n",
    "import operator\n",
    "import math\n",
    "from PIL import Image\n",
    "\n",
    "p = (295, 179)\n",
    "cell_width = 16\n",
    "cell_hight = 16.6\n",
    "cell_dimentions = (30,16)\n",
    "\n",
    "def cSub(p1, p2):\n",
    "    r,g,b,a = p1\n",
    "    x,y,z,s = p2\n",
    "    return math.sqrt((r-z) ** 2 + (g-y) ** 2 + (b-z) ** 2 + (a-s) ** 2)\n",
    "\n",
    "def calculateDiff(a,b):\n",
    "    return sum(list(map(cSub, a, b)))\n",
    "\n",
    "def getCellImg(x,y):\n",
    "    return pyscreenshot.grab(bbox=(p[0] + (x*cell_width),\n",
    "                                   p[1] + (y*cell_width),\n",
    "                                   p[0] + ((x+1)*cell_width),\n",
    "                                   p[1] + ((y+1)*cell_hight) ))\n",
    "def getFullImg():\n",
    "    return pyscreenshot.grab(bbox=(p[0] ,\n",
    "                                   p[1] ,\n",
    "                                   p[0] + (cell_width * cell_dimentions[0]),\n",
    "                                   p[1] + (cell_hight * cell_dimentions[1]) ))\n",
    "\n",
    "\n",
    "#getFullImg().show()\n",
    "i1 = list(Image.open(\"cell_one.png\").getdata())\n",
    "i2 = list(Image.open(\"cell_two.png\").getdata())\n",
    "i3 = list(Image.open(\"cell_three.png\").getdata())\n",
    "i4 = list(Image.open(\"cell_four.png\").getdata())\n",
    "ic = list(getCellImg(2,1).getdata())\n",
    "\n",
    "print(calculateDiff(i1,ic))\n",
    "print(calculateDiff(i2,ic))\n",
    "print(calculateDiff(i3,ic))\n",
    "print(calculateDiff(i4,ic))\n",
    "\n",
    "# part of the screen\n",
    "#sh=pyscreenshot.grab(bbox=(10,10,11,12))\n",
    "#screenshot.show()\n",
    "#print((sh.getpixel((0,0))))\n",
    "#print(sh.size)\n",
    "\n",
    "# save to file\n",
    "#pyscreenshot.grab_to_file('screenshot.png')"
   ]
  },
  {
   "cell_type": "code",
   "execution_count": null,
   "metadata": {
    "collapsed": true
   },
   "outputs": [],
   "source": []
  }
 ],
 "metadata": {
  "kernelspec": {
   "display_name": "Python 3",
   "language": "python",
   "name": "python3"
  },
  "language_info": {
   "codemirror_mode": {
    "name": "ipython",
    "version": 3
   },
   "file_extension": ".py",
   "mimetype": "text/x-python",
   "name": "python",
   "nbconvert_exporter": "python",
   "pygments_lexer": "ipython3",
   "version": "3.6.3"
  }
 },
 "nbformat": 4,
 "nbformat_minor": 2
}
